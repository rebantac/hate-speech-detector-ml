{
 "cells": [
  {
   "cell_type": "code",
   "execution_count": 1,
   "id": "657a6e66",
   "metadata": {},
   "outputs": [],
   "source": [
    "# Importing Dataset\n",
    "\n",
    "import pandas as pd\n",
    "\n",
    "data = pd.read_csv('data.csv')"
   ]
  },
  {
   "cell_type": "code",
   "execution_count": 2,
   "id": "395aa380",
   "metadata": {},
   "outputs": [
    {
     "data": {
      "text/html": [
       "<div>\n",
       "<style scoped>\n",
       "    .dataframe tbody tr th:only-of-type {\n",
       "        vertical-align: middle;\n",
       "    }\n",
       "\n",
       "    .dataframe tbody tr th {\n",
       "        vertical-align: top;\n",
       "    }\n",
       "\n",
       "    .dataframe thead th {\n",
       "        text-align: right;\n",
       "    }\n",
       "</style>\n",
       "<table border=\"1\" class=\"dataframe\">\n",
       "  <thead>\n",
       "    <tr style=\"text-align: right;\">\n",
       "      <th></th>\n",
       "      <th>class</th>\n",
       "      <th>tweet</th>\n",
       "    </tr>\n",
       "  </thead>\n",
       "  <tbody>\n",
       "    <tr>\n",
       "      <th>0</th>\n",
       "      <td>2</td>\n",
       "      <td>!!! RT @mayasolovely: As a woman you shouldn't...</td>\n",
       "    </tr>\n",
       "    <tr>\n",
       "      <th>1</th>\n",
       "      <td>1</td>\n",
       "      <td>!!!!! RT @mleew17: boy dats cold...tyga dwn ba...</td>\n",
       "    </tr>\n",
       "    <tr>\n",
       "      <th>2</th>\n",
       "      <td>1</td>\n",
       "      <td>!!!!!!! RT @UrKindOfBrand Dawg!!!! RT @80sbaby...</td>\n",
       "    </tr>\n",
       "    <tr>\n",
       "      <th>3</th>\n",
       "      <td>1</td>\n",
       "      <td>!!!!!!!!! RT @C_G_Anderson: @viva_based she lo...</td>\n",
       "    </tr>\n",
       "    <tr>\n",
       "      <th>4</th>\n",
       "      <td>1</td>\n",
       "      <td>!!!!!!!!!!!!! RT @ShenikaRoberts: The shit you...</td>\n",
       "    </tr>\n",
       "  </tbody>\n",
       "</table>\n",
       "</div>"
      ],
      "text/plain": [
       "   class                                              tweet\n",
       "0      2  !!! RT @mayasolovely: As a woman you shouldn't...\n",
       "1      1  !!!!! RT @mleew17: boy dats cold...tyga dwn ba...\n",
       "2      1  !!!!!!! RT @UrKindOfBrand Dawg!!!! RT @80sbaby...\n",
       "3      1  !!!!!!!!! RT @C_G_Anderson: @viva_based she lo...\n",
       "4      1  !!!!!!!!!!!!! RT @ShenikaRoberts: The shit you..."
      ]
     },
     "execution_count": 2,
     "metadata": {},
     "output_type": "execute_result"
    }
   ],
   "source": [
    "data.head()"
   ]
  },
  {
   "cell_type": "markdown",
   "id": "321970a7",
   "metadata": {},
   "source": [
    "0 - hate speech; 1 - offensive language; 2 - neither;"
   ]
  },
  {
   "cell_type": "code",
   "execution_count": 3,
   "id": "57a51068",
   "metadata": {},
   "outputs": [],
   "source": [
    "# Data cleaning and Preprocessing\n",
    "\n",
    "import re\n",
    "from nltk.corpus import stopwords\n",
    "from nltk.stem import WordNetLemmatizer\n",
    "\n",
    "lm = WordNetLemmatizer()\n",
    "corpus = []\n",
    "\n",
    "for i in range(0, len(data)):\n",
    "    review = re.sub('[^a-zA-Z]', ' ', data['tweet'][i])\n",
    "    review = review.lower()\n",
    "    review = review.split()\n",
    "    \n",
    "    review = [lm.lemmatize(word) for word in review if not word in set(stopwords.words('english'))]\n",
    "    review = ' '.join(review)\n",
    "    corpus.append(review)"
   ]
  },
  {
   "cell_type": "code",
   "execution_count": 4,
   "id": "b64f969e",
   "metadata": {},
   "outputs": [],
   "source": [
    "# Creating the Bag of Words Model\n",
    "\n",
    "from sklearn.feature_extraction.text import CountVectorizer\n",
    "cv = CountVectorizer()\n",
    "X = cv.fit_transform(corpus).toarray()"
   ]
  },
  {
   "cell_type": "code",
   "execution_count": 5,
   "id": "ec42ffec",
   "metadata": {},
   "outputs": [],
   "source": [
    "# Creating labels by assigning dummies\n",
    "\n",
    "Y = pd.get_dummies(data['class'])\n",
    "Y = Y.iloc[:,1].values"
   ]
  },
  {
   "cell_type": "code",
   "execution_count": 6,
   "id": "1f708479",
   "metadata": {},
   "outputs": [],
   "source": [
    "# Train - Test Split\n",
    "\n",
    "from sklearn.model_selection import train_test_split\n",
    "X_train, X_test, Y_train, Y_test = train_test_split(X, Y, test_size = 0.20, random_state = 0)\n",
    "# Test State ->  20% of the data"
   ]
  },
  {
   "cell_type": "markdown",
   "id": "257b5a5f",
   "metadata": {},
   "source": [
    "## Selecting a Model"
   ]
  },
  {
   "cell_type": "code",
   "execution_count": 7,
   "id": "647a9cb9",
   "metadata": {},
   "outputs": [],
   "source": [
    "# using Naive Bayes Classifier\n",
    "# from sklearn.naive_bayes import MultinomialNB # -> Naive Bayes Library\n",
    "\n",
    "# KNN\n",
    "# from sklearn.neighbors import KNeighborsClassifier\n",
    "\n",
    "# Random Forest Classifier\n",
    "# from sklearn.ensemble import RandomForestClassifier\n",
    "\n",
    "# Decision Tree Classifier\n",
    "from sklearn.tree import DecisionTreeClassifier"
   ]
  },
  {
   "cell_type": "code",
   "execution_count": 8,
   "id": "7014ec3a",
   "metadata": {},
   "outputs": [],
   "source": [
    "# spam_detect_model = MultinomialNB().fit(X_train, Y_train)\n",
    "\n",
    "# spam_detect_model = KNeighborsClassifier(n_neighbors = 5, metric = 'minkowski', p = 2).fit(X_train, Y_train)\n",
    "\n",
    "# spam_detect_model = RandomForestClassifier(max_depth=2, random_state=0).fit(X_train, Y_train)\n",
    "\n",
    "hate_speech_detect_model = DecisionTreeClassifier(criterion = 'entropy', random_state = 0).fit(X_train, Y_train)"
   ]
  },
  {
   "cell_type": "code",
   "execution_count": 9,
   "id": "33deb329",
   "metadata": {},
   "outputs": [],
   "source": [
    "# For Testing\n",
    "\n",
    "Y_pred = hate_speech_detect_model.predict(X_test)"
   ]
  },
  {
   "cell_type": "markdown",
   "id": "fe0e5426",
   "metadata": {},
   "source": [
    "## Evaluating the Model"
   ]
  },
  {
   "cell_type": "code",
   "execution_count": 10,
   "id": "ae4ff8be",
   "metadata": {},
   "outputs": [
    {
     "name": "stdout",
     "output_type": "stream",
     "text": [
      "[[ 844  261]\n",
      " [ 278 3574]]\n"
     ]
    }
   ],
   "source": [
    "# Creating Confusion Matrix\n",
    "\n",
    "from sklearn.metrics import confusion_matrix\n",
    "confusion_mat = confusion_matrix(Y_test, Y_pred)\n",
    "print(confusion_mat)"
   ]
  },
  {
   "cell_type": "code",
   "execution_count": 11,
   "id": "a51ee5ac",
   "metadata": {},
   "outputs": [
    {
     "name": "stdout",
     "output_type": "stream",
     "text": [
      "0.8912648779503732\n"
     ]
    }
   ],
   "source": [
    "# Checking Accuracy\n",
    "\n",
    "from sklearn.metrics import accuracy_score\n",
    "accuracy = accuracy_score(Y_test, Y_pred)\n",
    "print(accuracy)"
   ]
  },
  {
   "cell_type": "markdown",
   "id": "4d506afe",
   "metadata": {},
   "source": [
    "## Saving the Model"
   ]
  },
  {
   "cell_type": "code",
   "execution_count": 12,
   "id": "c39c9399",
   "metadata": {},
   "outputs": [
    {
     "data": {
      "text/plain": [
       "['Hate_Speech_Detector.joblib']"
      ]
     },
     "execution_count": 12,
     "metadata": {},
     "output_type": "execute_result"
    }
   ],
   "source": [
    "from joblib import dump, load\n",
    "dump(hate_speech_detect_model, 'Hate_Speech_Detector.joblib')"
   ]
  },
  {
   "cell_type": "code",
   "execution_count": null,
   "id": "7a65e53a",
   "metadata": {},
   "outputs": [],
   "source": []
  }
 ],
 "metadata": {
  "kernelspec": {
   "display_name": "Python 3 (ipykernel)",
   "language": "python",
   "name": "python3"
  },
  "language_info": {
   "codemirror_mode": {
    "name": "ipython",
    "version": 3
   },
   "file_extension": ".py",
   "mimetype": "text/x-python",
   "name": "python",
   "nbconvert_exporter": "python",
   "pygments_lexer": "ipython3",
   "version": "3.10.2"
  }
 },
 "nbformat": 4,
 "nbformat_minor": 5
}
